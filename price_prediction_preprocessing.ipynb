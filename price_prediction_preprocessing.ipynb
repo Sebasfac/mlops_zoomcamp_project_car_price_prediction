{
 "cells": [
  {
   "cell_type": "code",
   "execution_count": 6,
   "id": "1b0b4a5a",
   "metadata": {},
   "outputs": [],
   "source": [
    "import os\n",
    "import pandas as pd\n",
    "import numpy as np\n",
    "import pickle\n",
    "from sklearn.model_selection import train_test_split\n",
    "from sklearn.feature_extraction import DictVectorizer"
   ]
  },
  {
   "cell_type": "code",
   "execution_count": 7,
   "id": "7f724f46",
   "metadata": {},
   "outputs": [],
   "source": [
    "def dump_pickle(obj, filename: str):\n",
    "    with open(filename, \"wb\") as f_out:\n",
    "        return pickle.dump(obj, f_out)"
   ]
  },
  {
   "cell_type": "code",
   "execution_count": 8,
   "id": "7f227383",
   "metadata": {},
   "outputs": [],
   "source": [
    "def read_and_clean_dataframe(filename: str):\n",
    "    \n",
    "    df = pd.read_csv(filename)\n",
    "    df = df.drop(['Levy','ID'], axis='columns')\n",
    "    \n",
    "    #Some data cleaning here\n",
    "    df['Leather interior'].replace({'Yes': True, 'No':False}, inplace=True)\n",
    "    \n",
    "    df['Engine volume'] = df['Engine volume'].str.lower()\n",
    "    df['Turbo'] = df['Engine volume'].str.contains('turbo')\n",
    "\n",
    "    df['Engine volume'] = df['Engine volume'].str.slice(0,3)\n",
    "    df['Engine volume'] = df['Engine volume'].astype('float64')\n",
    "\n",
    "    df['Mileage'] = df['Mileage'].str.strip('km')\n",
    "    df['Mileage'] = df['Mileage'].astype('int64')\n",
    "\n",
    "    df['Doors'].replace({'04-May':4, '02-Mar':2, '>5':5}, inplace=True)\n",
    "    \n",
    "    return df"
   ]
  },
  {
   "cell_type": "code",
   "execution_count": 14,
   "id": "07f0191d",
   "metadata": {},
   "outputs": [],
   "source": [
    "def remove_outliers(df: pd.DataFrame, features: list()):\n",
    "    outlier_indices = []\n",
    "    \n",
    "    for f in features:\n",
    "        P01 = np.percentile(df[f],1)\n",
    "        P99 = np.percentile(df[f],99)\n",
    "        outlier_list_col = df[(df[f] < P01) | (df[f] > P99)].index\n",
    "        outlier_indices.extend(outlier_list_col)\n",
    "        df_without_outliers = df.drop(df.loc[outlier_indices].index, axis=0)\n",
    "        df = df_without_outliers\n",
    "        \n",
    "    return df"
   ]
  },
  {
   "cell_type": "code",
   "execution_count": 10,
   "id": "5e431c6d",
   "metadata": {},
   "outputs": [],
   "source": [
    "def preprocess(df: pd.DataFrame, dv: DictVectorizer):\n",
    "    y = df['Price']\n",
    "    X = df.drop('Price', axis = 1)\n",
    "    X_train, X_test, y_train, y_test = train_test_split(X, y, test_size=0.2, random_state=1)\n",
    "    X_train, X_val, y_train, y_val = train_test_split(X_train, y_train, test_size=0.25, random_state=1)\n",
    "    \n",
    "    categorical = list(X.select_dtypes(include=['int']).columns)\n",
    "    numerical = list(X.select_dtypes(exclude=['int']).columns)\n",
    "\n",
    "    train_dicts = X_train[categorical + numerical].to_dict(orient='records')\n",
    "    val_dicts = X_val[categorical + numerical].to_dict(orient='records')\n",
    "    test_dicts = X_test[categorical + numerical].to_dict(orient='records')\n",
    "\n",
    "\n",
    "\n",
    "    X_train = dv.fit_transform(train_dicts)\n",
    "    X_val = dv.transform(val_dicts)\n",
    "    X_test = dv.transform(test_dicts)\n",
    "    \n",
    "    return X_train, X_val, X_test, y_train, y_val, y_test\n"
   ]
  },
  {
   "cell_type": "code",
   "execution_count": 11,
   "id": "19e7f5a1",
   "metadata": {},
   "outputs": [],
   "source": [
    "#MODIFY HERE IF NEEDED.\n",
    "raw_data_path = 'C:/Users/sebas/Desktop/mlops-zoomcamp-main/mlops-zoomcamp-sebasfac/Project'\n",
    "dest_path = raw_data_path + '/preprocessed_data'"
   ]
  },
  {
   "cell_type": "code",
   "execution_count": 24,
   "id": "5c063eb1",
   "metadata": {},
   "outputs": [],
   "source": [
    "def run_data_prep(raw_data_path: str, dest_path: str):\n",
    "    df = read_and_clean_dataframe(os.path.join(raw_data_path, 'car_price_prediction.csv'))\n",
    "    \n",
    "    features = ['Price', 'Mileage']\n",
    "    df = remove_outliers(df, features)\n",
    "    dv = DictVectorizer()\n",
    "    X_train, X_val, X_test, y_train, y_val, y_test = preprocess(df, dv)\n",
    "    \n",
    "    dump_pickle(dv, os.path.join(dest_path, \"dv.pkl\"))\n",
    "    dump_pickle((X_train, y_train), os.path.join(dest_path, \"train.pkl\"))\n",
    "    dump_pickle((X_val, y_val), os.path.join(dest_path, \"val.pkl\"))\n",
    "    dump_pickle((X_test, y_test), os.path.join(dest_path, \"test.pkl\"))\n",
    "    \n"
   ]
  },
  {
   "cell_type": "code",
   "execution_count": 22,
   "id": "ef8b83e3",
   "metadata": {},
   "outputs": [
    {
     "ename": "TypeError",
     "evalue": "run_data_prep() missing 2 required positional arguments: 'raw_data_path' and 'dest_path'",
     "output_type": "error",
     "traceback": [
      "\u001b[1;31m---------------------------------------------------------------------------\u001b[0m",
      "\u001b[1;31mTypeError\u001b[0m                                 Traceback (most recent call last)",
      "\u001b[1;32m~\\AppData\\Local\\Temp\\ipykernel_14256\\3937792495.py\u001b[0m in \u001b[0;36m<module>\u001b[1;34m\u001b[0m\n\u001b[0;32m      1\u001b[0m \u001b[1;32mif\u001b[0m \u001b[0m__name__\u001b[0m \u001b[1;33m==\u001b[0m \u001b[1;34m'__main__'\u001b[0m\u001b[1;33m:\u001b[0m\u001b[1;33m\u001b[0m\u001b[1;33m\u001b[0m\u001b[0m\n\u001b[1;32m----> 2\u001b[1;33m     \u001b[0mrun_data_prep\u001b[0m\u001b[1;33m(\u001b[0m\u001b[1;33m)\u001b[0m\u001b[1;33m\u001b[0m\u001b[1;33m\u001b[0m\u001b[0m\n\u001b[0m",
      "\u001b[1;31mTypeError\u001b[0m: run_data_prep() missing 2 required positional arguments: 'raw_data_path' and 'dest_path'"
     ]
    }
   ],
   "source": [
    "if __name__ == '__main__':\n",
    "    run_data_prep(raw_data_path, dest_path)"
   ]
  },
  {
   "cell_type": "code",
   "execution_count": null,
   "id": "b2ea2fb9",
   "metadata": {},
   "outputs": [],
   "source": []
  },
  {
   "cell_type": "code",
   "execution_count": null,
   "id": "4df81460",
   "metadata": {},
   "outputs": [],
   "source": []
  }
 ],
 "metadata": {
  "kernelspec": {
   "display_name": "Python 3 (ipykernel)",
   "language": "python",
   "name": "python3"
  },
  "language_info": {
   "codemirror_mode": {
    "name": "ipython",
    "version": 3
   },
   "file_extension": ".py",
   "mimetype": "text/x-python",
   "name": "python",
   "nbconvert_exporter": "python",
   "pygments_lexer": "ipython3",
   "version": "3.7.13"
  }
 },
 "nbformat": 4,
 "nbformat_minor": 5
}
